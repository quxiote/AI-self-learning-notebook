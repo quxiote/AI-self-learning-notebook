{
  "nbformat": 4,
  "nbformat_minor": 0,
  "metadata": {
    "colab": {
      "name": "Untitled0.ipynb",
      "version": "0.3.2",
      "provenance": [],
      "include_colab_link": true
    },
    "kernelspec": {
      "name": "python3",
      "display_name": "Python 3"
    }
  },
  "cells": [
    {
      "cell_type": "markdown",
      "metadata": {
        "id": "view-in-github",
        "colab_type": "text"
      },
      "source": [
        "<a href=\"https://colab.research.google.com/github/quxiote/AI-self-learning-notebook/blob/master/mxnet_installation.ipynb\" target=\"_parent\"><img src=\"https://colab.research.google.com/assets/colab-badge.svg\" alt=\"Open In Colab\"/></a>"
      ]
    },
    {
      "cell_type": "code",
      "metadata": {
        "id": "0F3J2uhObabE",
        "colab_type": "code",
        "colab": {}
      },
      "source": [
        "!pip install autokeras"
      ],
      "execution_count": 0,
      "outputs": []
    },
    {
      "cell_type": "code",
      "metadata": {
        "id": "fD-ztZGq9Mxd",
        "colab_type": "code",
        "colab": {
          "base_uri": "https://localhost:8080/",
          "height": 3272
        },
        "outputId": "3856a6cd-76bb-4205-bb9b-94625edcc46d"
      },
      "source": [
        "!sh Miniconda3-latest-Linux-x86_64.sh -u"
      ],
      "execution_count": 6,
      "outputs": [
        {
          "output_type": "stream",
          "text": [
            "\n",
            "Welcome to Miniconda3 4.6.14\n",
            "\n",
            "In order to continue the installation process, please review the license\n",
            "agreement.\n",
            "Please, press ENTER to continue\n",
            ">>> \n",
            "===================================\n",
            "Miniconda End User License Agreement\n",
            "===================================\n",
            "\n",
            "Copyright 2015, Anaconda, Inc.\n",
            "\n",
            "All rights reserved under the 3-clause BSD License:\n",
            "\n",
            "Redistribution and use in source and binary forms, with or without modification,\n",
            " are permitted provided that the following conditions are met:\n",
            "\n",
            "  * Redistributions of source code must retain the above copyright notice, this \n",
            "list of conditions and the following disclaimer.\n",
            "  * Redistributions in binary form must reproduce the above copyright notice, th\n",
            "is list of conditions and the following disclaimer in the documentation and/or o\n",
            "ther materials provided with the distribution.\n",
            "  * Neither the name of Anaconda, Inc. (\"Anaconda, Inc.\") nor the names of its c\n",
            "ontributors may be used to endorse or promote products derived from this softwar\n",
            "e without specific prior written permission.\n",
            "\n",
            "THIS SOFTWARE IS PROVIDED BY THE COPYRIGHT HOLDERS AND CONTRIBUTORS \"AS IS\" AND \n",
            "ANY EXPRESS OR IMPLIED WARRANTIES, INCLUDING, BUT NOT LIMITED TO, THE IMPLIED WA\n",
            "RRANTIES OF MERCHANTABILITY AND FITNESS FOR A PARTICULAR PURPOSE ARE DISCLAIMED.\n",
            "\u001b[K\n",
            "...skipping 1 line\n",
            "Notice of Third Party Software Licenses\n",
            "=======================================\n",
            "\n",
            "Miniconda contains open source software packages from third parties. These are a\n",
            "vailable on an \"as is\" basis and subject to their individual license agreements.\n",
            " These licenses are available in Anaconda Distribution or at http://docs.anacond\n",
            "a.com/anaconda/pkg-docs. Any binary packages of these third party tools you obta\n",
            "in via Anaconda Distribution are subject to their individual licenses as well as\n",
            " the Anaconda license. Anaconda, Inc. reserves the right to change which third p\n",
            "arty tools are provided in Miniconda.\n",
            "\n",
            "Cryptography Notice\n",
            "===================\n",
            "\n",
            "This distribution includes cryptographic software. The country in which you curr\n",
            "ently reside may have restrictions on the import, possession, use, and/or re-exp\n",
            "ort to another country, of encryption software. BEFORE using any encryption soft\n",
            "ware, please check your country's laws, regulations and policies concerning the \n",
            "import, possession, or use, and re-export of encryption software, to see if this\n",
            " is permitted. See the Wassenaar Arrangement http://www.wassenaar.org/ for more \n",
            "information.\n",
            "\n",
            "Anaconda, Inc. has self-classified this software as Export Commodity Control Num\n",
            "ber (ECCN) 5D992b, which includes mass market information security software usin\n",
            "g or performing cryptographic functions with asymmetric algorithms. No license i\n",
            "s required for export of this software to non-embargoed countries. In addition, \n",
            "the Intel(TM) Math Kernel Library contained in Anaconda, Inc.'s software is clas\n",
            "sified by Intel(TM) as ECCN 5D992b with no license required for export to non-em\n",
            "bargoed countries.\n",
            "\u001b[K\n",
            "The following packages are included in this distribution that relate to cryptogr\n",
            "aphy:\u001b[K\n",
            "\u001b[K\n",
            "openssl\u001b[K\n",
            "    The OpenSSL Project is a collaborative effort to develop a robust, commercia\n",
            "l-grade, full-featured, and Open Source toolkit implementing the Transport Layer\n",
            " Security (TLS) and Secure Sockets Layer (SSL) protocols as well as a full-stren\n",
            "gth general purpose cryptography library.\n",
            "\u001b[K\n",
            "pycrypto\n",
            "    A collection of both secure hash functions (such as SHA256 and RIPEMD160), a\n",
            "nd various encryption algorithms (AES, DES, RSA, ElGamal, etc.).\n",
            "\u001b[K\n",
            "pyopenssl\n",
            "    A thin Python wrapper around (a subset of) the OpenSSL library.\n",
            "\u001b[K\n",
            "kerberos (krb5, non-Windows platforms)\n",
            "    A network authentication protocol designed to provide strong authentication \n",
            "for client/server applications by using secret-key cryptography.\n",
            "\u001b[K\n",
            "cryptography\n",
            "    A Python library which exposes cryptographic recipes and primitives.\n",
            "\u001b[K\n",
            "\n",
            "Do you accept the license terms? [yes|no]\n",
            "[no] >>> yes\n",
            "\n",
            "Miniconda3 will now be installed into this location:\n",
            "/root/miniconda3\n",
            "\n",
            "  - Press ENTER to confirm the location\n",
            "  - Press CTRL-C to abort the installation\n",
            "  - Or specify a different location below\n",
            "\n",
            "[/root/miniconda3] >>> \n",
            "PREFIX=/root/miniconda3\n",
            "reinstalling: python-3.7.3-h0371630_0 ...\n",
            "using -f (force) option\n",
            "Python 3.7.3\n",
            "reinstalling: ca-certificates-2019.1.23-0 ...\n",
            "using -f (force) option\n",
            "reinstalling: libgcc-ng-8.2.0-hdf63c60_1 ...\n",
            "using -f (force) option\n",
            "reinstalling: libstdcxx-ng-8.2.0-hdf63c60_1 ...\n",
            "using -f (force) option\n",
            "reinstalling: libffi-3.2.1-hd88cf55_4 ...\n",
            "using -f (force) option\n",
            "reinstalling: ncurses-6.1-he6710b0_1 ...\n",
            "using -f (force) option\n",
            "reinstalling: openssl-1.1.1b-h7b6447c_1 ...\n",
            "using -f (force) option\n",
            "reinstalling: xz-5.2.4-h14c3975_4 ...\n",
            "using -f (force) option\n",
            "reinstalling: yaml-0.1.7-had09818_2 ...\n",
            "using -f (force) option\n",
            "reinstalling: zlib-1.2.11-h7b6447c_3 ...\n",
            "using -f (force) option\n",
            "reinstalling: libedit-3.1.20181209-hc058e9b_0 ...\n",
            "using -f (force) option\n",
            "reinstalling: readline-7.0-h7b6447c_5 ...\n",
            "using -f (force) option\n",
            "reinstalling: tk-8.6.8-hbc83047_0 ...\n",
            "using -f (force) option\n",
            "reinstalling: sqlite-3.27.2-h7b6447c_0 ...\n",
            "using -f (force) option\n",
            "reinstalling: asn1crypto-0.24.0-py37_0 ...\n",
            "using -f (force) option\n",
            "reinstalling: certifi-2019.3.9-py37_0 ...\n",
            "using -f (force) option\n",
            "reinstalling: chardet-3.0.4-py37_1 ...\n",
            "using -f (force) option\n",
            "reinstalling: idna-2.8-py37_0 ...\n",
            "using -f (force) option\n",
            "reinstalling: pycosat-0.6.3-py37h14c3975_0 ...\n",
            "using -f (force) option\n",
            "reinstalling: pycparser-2.19-py37_0 ...\n",
            "using -f (force) option\n",
            "reinstalling: pysocks-1.6.8-py37_0 ...\n",
            "using -f (force) option\n",
            "reinstalling: ruamel_yaml-0.15.46-py37h14c3975_0 ...\n",
            "using -f (force) option\n",
            "reinstalling: six-1.12.0-py37_0 ...\n",
            "using -f (force) option\n",
            "reinstalling: cffi-1.12.2-py37h2e261b9_1 ...\n",
            "using -f (force) option\n",
            "reinstalling: setuptools-41.0.0-py37_0 ...\n",
            "using -f (force) option\n",
            "reinstalling: cryptography-2.6.1-py37h1ba5d50_0 ...\n",
            "using -f (force) option\n",
            "reinstalling: wheel-0.33.1-py37_0 ...\n",
            "using -f (force) option\n",
            "reinstalling: pip-19.0.3-py37_0 ...\n",
            "using -f (force) option\n",
            "reinstalling: pyopenssl-19.0.0-py37_0 ...\n",
            "using -f (force) option\n",
            "reinstalling: urllib3-1.24.1-py37_0 ...\n",
            "using -f (force) option\n",
            "reinstalling: requests-2.21.0-py37_0 ...\n",
            "using -f (force) option\n",
            "reinstalling: conda-4.6.14-py37_0 ...\n",
            "using -f (force) option\n",
            "using -f (force) option\n",
            "installation finished.\n",
            "WARNING:\n",
            "    You currently have a PYTHONPATH environment variable set. This may cause\n",
            "    unexpected behavior when running the Python interpreter in Miniconda3.\n",
            "    For best results, please verify that your PYTHONPATH only points to\n",
            "    directories of packages that are compatible with the Python interpreter\n",
            "    in Miniconda3: /root/miniconda3\n",
            "Do you wish the installer to initialize Miniconda3\n",
            "by running conda init? [yes|no]\n",
            "[no] >>> yes\n",
            "no change     /root/miniconda3/condabin/conda\n",
            "no change     /root/miniconda3/bin/conda\n",
            "no change     /root/miniconda3/bin/conda-env\n",
            "no change     /root/miniconda3/bin/activate\n",
            "no change     /root/miniconda3/bin/deactivate\n",
            "no change     /root/miniconda3/etc/profile.d/conda.sh\n",
            "no change     /root/miniconda3/etc/fish/conf.d/conda.fish\n",
            "no change     /root/miniconda3/shell/condabin/Conda.psm1\n",
            "no change     /root/miniconda3/shell/condabin/conda-hook.ps1\n",
            "no change     /root/miniconda3/lib/python3.7/site-packages/xonsh/conda.xsh\n",
            "no change     /root/miniconda3/etc/profile.d/conda.csh\n",
            "modified      /root/.bashrc\n",
            "\n",
            "==> For changes to take effect, close and re-open your current shell. <==\n",
            "\n",
            "If you'd prefer that conda's base environment not be activated on startup, \n",
            "   set the auto_activate_base parameter to false: \n",
            "\n",
            "conda config --set auto_activate_base false\n",
            "\n",
            "Thank you for installing Miniconda3!\n"
          ],
          "name": "stdout"
        }
      ]
    },
    {
      "cell_type": "code",
      "metadata": {
        "id": "va-_QWbfMKXE",
        "colab_type": "code",
        "colab": {}
      },
      "source": [
        "!cd /content"
      ],
      "execution_count": 0,
      "outputs": []
    },
    {
      "cell_type": "code",
      "metadata": {
        "id": "MtywmVV_McUr",
        "colab_type": "code",
        "colab": {}
      },
      "source": [
        "!mkdir d2l-zh && cd d2l-zh"
      ],
      "execution_count": 0,
      "outputs": []
    },
    {
      "cell_type": "code",
      "metadata": {
        "id": "CKb9ZVDcMfge",
        "colab_type": "code",
        "colab": {
          "base_uri": "https://localhost:8080/",
          "height": 133
        },
        "outputId": "50071847-0fa4-46eb-9772-6b1f0030f73f"
      },
      "source": [
        "!git clone https://github.com/d2l-ai/d2l-zh.git"
      ],
      "execution_count": 13,
      "outputs": [
        {
          "output_type": "stream",
          "text": [
            "Cloning into 'd2l-zh'...\n",
            "remote: Enumerating objects: 49, done.\u001b[K\n",
            "remote: Counting objects:   2% (1/49)   \u001b[K\rremote: Counting objects:   4% (2/49)   \u001b[K\rremote: Counting objects:   6% (3/49)   \u001b[K\rremote: Counting objects:   8% (4/49)   \u001b[K\rremote: Counting objects:  10% (5/49)   \u001b[K\rremote: Counting objects:  12% (6/49)   \u001b[K\rremote: Counting objects:  14% (7/49)   \u001b[K\rremote: Counting objects:  16% (8/49)   \u001b[K\rremote: Counting objects:  18% (9/49)   \u001b[K\rremote: Counting objects:  20% (10/49)   \u001b[K\rremote: Counting objects:  22% (11/49)   \u001b[K\rremote: Counting objects:  24% (12/49)   \u001b[K\rremote: Counting objects:  26% (13/49)   \u001b[K\rremote: Counting objects:  28% (14/49)   \u001b[K\rremote: Counting objects:  30% (15/49)   \u001b[K\rremote: Counting objects:  32% (16/49)   \u001b[K\rremote: Counting objects:  34% (17/49)   \u001b[K\rremote: Counting objects:  36% (18/49)   \u001b[K\rremote: Counting objects:  38% (19/49)   \u001b[K\rremote: Counting objects:  40% (20/49)   \u001b[K\rremote: Counting objects:  42% (21/49)   \u001b[K\rremote: Counting objects:  44% (22/49)   \u001b[K\rremote: Counting objects:  46% (23/49)   \u001b[K\rremote: Counting objects:  48% (24/49)   \u001b[K\rremote: Counting objects:  51% (25/49)   \u001b[K\rremote: Counting objects:  53% (26/49)   \u001b[K\rremote: Counting objects:  55% (27/49)   \u001b[K\rremote: Counting objects:  57% (28/49)   \u001b[K\rremote: Counting objects:  59% (29/49)   \u001b[K\rremote: Counting objects:  61% (30/49)   \u001b[K\rremote: Counting objects:  63% (31/49)   \u001b[K\rremote: Counting objects:  65% (32/49)   \u001b[K\rremote: Counting objects:  67% (33/49)   \u001b[K\rremote: Counting objects:  69% (34/49)   \u001b[K\rremote: Counting objects:  71% (35/49)   \u001b[K\rremote: Counting objects:  73% (36/49)   \u001b[K\rremote: Counting objects:  75% (37/49)   \u001b[K\rremote: Counting objects:  77% (38/49)   \u001b[K\rremote: Counting objects:  79% (39/49)   \u001b[K\rremote: Counting objects:  81% (40/49)   \u001b[K\rremote: Counting objects:  83% (41/49)   \u001b[K\rremote: Counting objects:  85% (42/49)   \u001b[K\rremote: Counting objects:  87% (43/49)   \u001b[K\rremote: Counting objects:  89% (44/49)   \u001b[K\rremote: Counting objects:  91% (45/49)   \u001b[K\rremote: Counting objects:  93% (46/49)   \u001b[K\rremote: Counting objects:  95% (47/49)   \u001b[K\rremote: Counting objects:  97% (48/49)   \u001b[K\rremote: Counting objects: 100% (49/49)   \u001b[K\rremote: Counting objects: 100% (49/49), done.\u001b[K\n",
            "remote: Compressing objects: 100% (49/49), done.\u001b[K\n",
            "remote: Total 15485 (delta 30), reused 0 (delta 0), pack-reused 15436\u001b[K\n",
            "Receiving objects: 100% (15485/15485), 157.01 MiB | 42.81 MiB/s, done.\n",
            "Resolving deltas: 100% (11040/11040), done.\n"
          ],
          "name": "stdout"
        }
      ]
    },
    {
      "cell_type": "code",
      "metadata": {
        "id": "dRwBT5pANCYC",
        "colab_type": "code",
        "colab": {
          "base_uri": "https://localhost:8080/",
          "height": 128
        },
        "outputId": "ed514c44-0b16-4342-c914-20b7a67fc7fe"
      },
      "source": [
        "!conda env update -f /content/d2l-zh/environment.yml"
      ],
      "execution_count": 19,
      "outputs": [
        {
          "output_type": "error",
          "ename": "SyntaxError",
          "evalue": "ignored",
          "traceback": [
            "\u001b[0;36m  File \u001b[0;32m\"<ipython-input-19-3471951b38b4>\"\u001b[0;36m, line \u001b[0;32m1\u001b[0m\n\u001b[0;31m    conda env update -f /content/d2l-zh/environment.yml\u001b[0m\n\u001b[0m            ^\u001b[0m\n\u001b[0;31mSyntaxError\u001b[0m\u001b[0;31m:\u001b[0m invalid syntax\n"
          ]
        }
      ]
    }
  ]
}